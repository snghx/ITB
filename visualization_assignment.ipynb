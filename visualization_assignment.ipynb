{
  "nbformat": 4,
  "nbformat_minor": 0,
  "metadata": {
    "colab": {
      "provenance": [],
      "collapsed_sections": [],
      "toc_visible": true,
      "authorship_tag": "ABX9TyOd9chp8j6KLLxmlTC1tcoK",
      "include_colab_link": true
    },
    "kernelspec": {
      "name": "python3",
      "display_name": "Python 3"
    },
    "language_info": {
      "name": "python"
    }
  },
  "cells": [
    {
      "cell_type": "markdown",
      "metadata": {
        "id": "view-in-github",
        "colab_type": "text"
      },
      "source": [
        "<a href=\"https://colab.research.google.com/github/snghx/ITB/blob/main/visualization_assignment.ipynb\" target=\"_parent\"><img src=\"https://colab.research.google.com/assets/colab-badge.svg\" alt=\"Open In Colab\"/></a>"
      ]
    },
    {
      "cell_type": "markdown",
      "source": [
        "## 데이터 시각화 과제\n",
        "### 소비자경제학과 1913455 노승혜"
      ],
      "metadata": {
        "id": "za3N1ZpJQO3A"
      }
    },
    {
      "cell_type": "code",
      "source": [
        "import pandas as pd\n",
        "import seaborn as sns\n",
        "import matplotlib as mpl\n",
        "import matplotlib.pyplot as plt\n",
        "import matplotlib.font_manager as fm"
      ],
      "metadata": {
        "id": "8mYgJ-HAQKDU"
      },
      "execution_count": 1,
      "outputs": []
    },
    {
      "cell_type": "code",
      "source": [
        "!apt-get update -qq\n",
        "!apt-get install fonts-nanum* -qq              # 나눔 폰트 설치\n",
        "\n",
        "sys_font=fm.findSystemFonts()\n",
        "print(f\"sys_font number: {len(sys_font)}\")\n",
        "print(sys_font)                                # 전체 폰트 개수\n",
        "\n",
        "nanum_font = [f for f in sys_font if 'Nanum' in f]\n",
        "print(f\"nanum_font number: {len(nanum_font)}\") # 나눔 폰트 개수 (설치된 것을 확인)\n",
        "#nanum_font"
      ],
      "metadata": {
        "colab": {
          "base_uri": "https://localhost:8080/"
        },
        "id": "wQl8IYgyxSPw",
        "outputId": "6a6e6773-be03-4469-ab99-d56e941f02d8"
      },
      "execution_count": 18,
      "outputs": [
        {
          "output_type": "stream",
          "name": "stdout",
          "text": [
            "sys_font number: 48\n",
            "['/usr/share/fonts/truetype/liberation/LiberationSansNarrow-Bold.ttf', '/usr/share/fonts/truetype/nanum/NanumBrush.ttf', '/usr/share/fonts/truetype/nanum/NanumBarunGothic.ttf', '/usr/share/fonts/truetype/nanum/NanumGothicCoding.ttf', '/usr/share/fonts/truetype/liberation/LiberationSerif-Bold.ttf', '/usr/share/fonts/truetype/liberation/LiberationMono-Italic.ttf', '/usr/share/fonts/truetype/liberation/LiberationSans-Bold.ttf', '/usr/share/fonts/truetype/liberation/LiberationSansNarrow-Italic.ttf', '/usr/share/fonts/truetype/nanum/NanumSquareR.ttf', '/usr/share/fonts/truetype/liberation/LiberationSansNarrow-Regular.ttf', '/usr/share/fonts/truetype/nanum/NanumGothicExtraBold.ttf', '/usr/share/fonts/truetype/liberation/LiberationSans-Italic.ttf', '/usr/share/fonts/truetype/nanum/NanumMyeongjo.ttf', '/usr/share/fonts/truetype/nanum/NanumSquareRoundR.ttf', '/usr/share/fonts/truetype/nanum/NanumPen.ttf', '/usr/share/fonts/truetype/nanum/NanumSquareRoundB.ttf', '/usr/share/fonts/truetype/nanum/NanumBarunGothicUltraLight.ttf', '/usr/share/fonts/truetype/liberation/LiberationSerif-BoldItalic.ttf', '/usr/share/fonts/truetype/nanum/NanumMyeongjoBold.ttf', '/usr/share/fonts/truetype/nanum/NanumGothicEcoExtraBold.ttf', '/usr/share/fonts/truetype/liberation/LiberationSans-BoldItalic.ttf', '/usr/share/fonts/truetype/nanum/NanumBarunGothicLight.ttf', '/usr/share/fonts/truetype/nanum/NanumGothicEcoBold.ttf', '/usr/share/fonts/truetype/nanum/NanumMyeongjoEcoExtraBold.ttf', '/usr/share/fonts/truetype/nanum/NanumMyeongjoEco.ttf', '/usr/share/fonts/truetype/liberation/LiberationSans-Regular.ttf', '/usr/share/fonts/truetype/nanum/NanumSquareL.ttf', '/usr/share/fonts/truetype/liberation/LiberationMono-BoldItalic.ttf', '/usr/share/fonts/truetype/nanum/NanumSquareRoundL.ttf', '/usr/share/fonts/truetype/liberation/LiberationMono-Regular.ttf', '/usr/share/fonts/truetype/nanum/NanumGothicEco.ttf', '/usr/share/fonts/truetype/nanum/NanumBarunpenB.ttf', '/usr/share/fonts/truetype/nanum/NanumSquareRoundEB.ttf', '/usr/share/fonts/truetype/nanum/NanumGothicBold.ttf', '/usr/share/fonts/truetype/nanum/NanumBarunGothicBold.ttf', '/usr/share/fonts/truetype/humor-sans/Humor-Sans.ttf', '/usr/share/fonts/truetype/nanum/NanumBarunpenR.ttf', '/usr/share/fonts/truetype/nanum/NanumGothicLight.ttf', '/usr/share/fonts/truetype/liberation/LiberationMono-Bold.ttf', '/usr/share/fonts/truetype/liberation/LiberationSansNarrow-BoldItalic.ttf', '/usr/share/fonts/truetype/nanum/NanumGothicCoding-Bold.ttf', '/usr/share/fonts/truetype/nanum/NanumSquareB.ttf', '/usr/share/fonts/truetype/nanum/NanumMyeongjoExtraBold.ttf', '/usr/share/fonts/truetype/nanum/NanumSquareEB.ttf', '/usr/share/fonts/truetype/nanum/NanumGothic.ttf', '/usr/share/fonts/truetype/nanum/NanumMyeongjoEcoBold.ttf', '/usr/share/fonts/truetype/liberation/LiberationSerif-Regular.ttf', '/usr/share/fonts/truetype/liberation/LiberationSerif-Italic.ttf']\n",
            "nanum_font number: 31\n"
          ]
        }
      ]
    },
    {
      "cell_type": "code",
      "source": [
        "# 폰트를 적용하기 위해서는 상단 메뉴 \"런타임> 런타임 다시 시작하기\" 후 import 코드부터 다시 실행\n",
        "\n",
        "%matplotlib inline\n",
        "import matplotlib as mpl               # 기본 설정\n",
        "import matplotlib.pyplot as plt        # 그래프 관련\n",
        "import matplotlib.font_manager as fm   # 폰트 관련\n",
        "\n",
        "mpl.rcParams['axes.unicode_minus'] = False  ## 마이너스 부호가 깨지는 것 방지 \n",
        "\n",
        "# 설치된 나눔글꼴중 원하는 폰트의 전체 경로 가져오기 \n",
        "path = '/usr/share/fonts/truetype/nanum/NanumMyeongjo.ttf'\n",
        "font_name = fm.FontProperties(fname=path, size=10).get_name()\n",
        "print(font_name)\n",
        "\n",
        "plt.rc('font', family=font_name)\n",
        "\n",
        "\n",
        "fm._rebuild()  # 폰트 적용"
      ],
      "metadata": {
        "colab": {
          "base_uri": "https://localhost:8080/"
        },
        "id": "Midl_sH8xdF2",
        "outputId": "bc7c38d4-b52a-4ec7-c2b1-b84bf9e915a2"
      },
      "execution_count": 2,
      "outputs": [
        {
          "output_type": "stream",
          "name": "stdout",
          "text": [
            "NanumMyeongjo\n"
          ]
        }
      ]
    },
    {
      "cell_type": "code",
      "execution_count": 3,
      "metadata": {
        "id": "syZ8FtwtMkLf"
      },
      "outputs": [],
      "source": [
        "fpath = 'https://raw.githubusercontent.com/snghx/ITB/main/data/health_data.csv'\n",
        "health = pd.read_csv(fpath)"
      ]
    },
    {
      "cell_type": "code",
      "source": [
        "print(health.isnull().sum())  #결측치 확인"
      ],
      "metadata": {
        "colab": {
          "base_uri": "https://localhost:8080/"
        },
        "id": "5F1nGhIwQx4Y",
        "outputId": "9814b244-aa53-4783-9d94-47518f5bbe39"
      },
      "execution_count": 4,
      "outputs": [
        {
          "output_type": "stream",
          "name": "stdout",
          "text": [
            "기준년도              0\n",
            "가입자일련번호           0\n",
            "시도코드              0\n",
            "성별코드              0\n",
            "연령대코드(5세단위)       0\n",
            "신장(5Cm단위)         0\n",
            "체중(5Kg 단위)        0\n",
            "허리둘레              0\n",
            "시력(좌)             0\n",
            "시력(우)             0\n",
            "청력(좌)             0\n",
            "청력(우)             0\n",
            "수축기혈압            88\n",
            "이완기혈압            88\n",
            "식전혈당(공복혈당)       88\n",
            "총콜레스테롤         5956\n",
            "트리글리세라이드       5956\n",
            "HDL콜레스테롤       5956\n",
            "LDL콜레스테롤       6023\n",
            "혈색소              88\n",
            "요단백             139\n",
            "혈청크레아티닌          88\n",
            "(혈청지오티)AST       88\n",
            "(혈청지오티)ALT       88\n",
            "감마지티피            88\n",
            "흡연상태              2\n",
            "음주여부              1\n",
            "구강검진수검여부          0\n",
            "치아우식증유무        6749\n",
            "치석             6749\n",
            "데이터공개일자           0\n",
            "dtype: int64\n"
          ]
        }
      ]
    },
    {
      "cell_type": "markdown",
      "source": [
        "#### Insight01"
      ],
      "metadata": {
        "id": "LNnxTVgFzJ58"
      }
    },
    {
      "cell_type": "code",
      "source": [
        "smoke = health[health['흡연상태'].notnull()]\n",
        "# print(smoke.isnull().sum())"
      ],
      "metadata": {
        "id": "ntLGN0TcoCna"
      },
      "execution_count": 5,
      "outputs": []
    },
    {
      "cell_type": "code",
      "source": [
        "# 직관적인 결과 파악을 위해 문자형으로 결과값 변경\n",
        "for i in smoke:\n",
        "  smoke.loc[smoke['치아우식증유무'] == 0.0, '치아우식증유무'] = \"없음\"\n",
        "  smoke.loc[smoke['치아우식증유무'] == 1.0, '치아우식증유무'] = \"있음\"\n",
        "  smoke.loc[smoke['치석'] == 0.0, '치석'] = \"없음\"\n",
        "  smoke.loc[smoke['치석'] == 1.0, '치석'] = \"있음\"\n",
        "  smoke.loc[smoke['치석'] == 2.0, '치석'] = \"측정불가\"  "
      ],
      "metadata": {
        "colab": {
          "base_uri": "https://localhost:8080/"
        },
        "id": "TlC2ilS694iI",
        "outputId": "59eaec42-44d9-4ed5-bc31-551c78f89c75"
      },
      "execution_count": 6,
      "outputs": [
        {
          "output_type": "stream",
          "name": "stderr",
          "text": [
            "/usr/local/lib/python3.7/dist-packages/pandas/core/indexing.py:1817: SettingWithCopyWarning: \n",
            "A value is trying to be set on a copy of a slice from a DataFrame.\n",
            "Try using .loc[row_indexer,col_indexer] = value instead\n",
            "\n",
            "See the caveats in the documentation: https://pandas.pydata.org/pandas-docs/stable/user_guide/indexing.html#returning-a-view-versus-a-copy\n",
            "  self._setitem_single_column(loc, value, pi)\n"
          ]
        }
      ]
    },
    {
      "cell_type": "code",
      "source": [
        "sns.countplot(data = smoke, x= '치아우식증유무') # graph1\n",
        "sns.displot(smoke, x = \"흡연상태\", hue = \"치아우식증유무\") # graph2"
      ],
      "metadata": {
        "colab": {
          "base_uri": "https://localhost:8080/",
          "height": 650
        },
        "id": "miPw0PpXs-TW",
        "outputId": "6be039c5-cd2c-41b4-aa6f-e7bd47e0e1de"
      },
      "execution_count": 7,
      "outputs": [
        {
          "output_type": "execute_result",
          "data": {
            "text/plain": [
              "<seaborn.axisgrid.FacetGrid at 0x7f8557580c10>"
            ]
          },
          "metadata": {},
          "execution_count": 7
        },
        {
          "output_type": "display_data",
          "data": {
            "text/plain": [
              "<Figure size 432x288 with 1 Axes>"
            ],
            "image/png": "[encoded data removed]"
          },
          "metadata": {
            "needs_background": "light"
          }
        },
        {
          "output_type": "display_data",
          "data": {
            "text/plain": [
              "<Figure size 434.5x360 with 1 Axes>"
            ],
            "image/png": "[encoded data removed]"
          },
          "metadata": {
            "needs_background": "light"
          }
        }
      ]
    },
    {
      "cell_type": "markdown",
      "source": [
        "**1. 치아우식증 유무**\n",
        "\n",
        "  graph1에서 볼 수 있듯이, 전체 데이터 중에서 치아우식증이 있는 표본과 없는 표본과의 차이가 크기 때문에 흡연 여부에 따른 치아우식증 유무를 비교하기에 적절하지 않다고 판단했다.\n",
        "\n",
        "  전체 데이터에서 치아우식증이 없는 데이터가 많았기에 흡연상태를 바탕으로 치아우식증 유무를 비교한 그래프(graph2)의 양상이 전체 데이터를 바탕으로 한 그래프(graph1)의 양상과 유사하게 나왔다."
      ],
      "metadata": {
        "id": "QuY6VZy0A3YN"
      }
    },
    {
      "cell_type": "code",
      "source": [
        "ax = sns.countplot(data = smoke, x = '치석') #graph3\n",
        "for p in ax.patches:\n",
        "    height = p.get_height()\n",
        "    ax.text(p.get_x() + p.get_width() / 2., height + 3, height, ha = 'center', size = 9)\n",
        "plt.show()\n",
        "\n",
        "sns.displot(smoke, x = \"흡연상태\", hue = \"치석\") #graph4"
      ],
      "metadata": {
        "colab": {
          "base_uri": "https://localhost:8080/",
          "height": 651
        },
        "id": "YaVlxM2y0r1s",
        "outputId": "b004c4f8-d494-4dba-b8d4-0423b790d8e9"
      },
      "execution_count": 8,
      "outputs": [
        {
          "output_type": "display_data",
          "data": {
            "text/plain": [
              "<Figure size 432x288 with 1 Axes>"
            ],
            "image/png": "[encoded data removed]"
          },
          "metadata": {
            "needs_background": "light"
          }
        },
        {
          "output_type": "execute_result",
          "data": {
            "text/plain": [
              "<seaborn.axisgrid.FacetGrid at 0x7f8553fa1f10>"
            ]
          },
          "metadata": {},
          "execution_count": 8
        },
        {
          "output_type": "display_data",
          "data": {
            "text/plain": [
              "<Figure size 434x360 with 1 Axes>"
            ],
            "image/png": "[encoded data removed]"
          },
          "metadata": {
            "needs_background": "light"
          }
        }
      ]
    },
    {
      "cell_type": "markdown",
      "source": [
        "**2. 치석 유무**\n",
        "\n",
        "  graph3에서 전체 데이터 내 치석유무의 표본 개수를 살펴보았다.\n",
        "  치석이 있는 표본과 없는 표본의 차이가 크지 않았기에 흡연여부에 따른 치석유무를 살펴보았다.\n",
        "\n",
        "  graph4에서 볼 수 있듯이, 현재 흡연 중인 사람 중 치석이 있는 경우가 더 많았고, 현재 흡연을 하고 있지 않은 사람 중에서는 치석이 없는 경우가 더 많았다.\n",
        "\n",
        "  따라서, 흡연자이면서 치석이 있을 경우와 비흡연자이면서 치석이 없을 경우가 빈번함을 확인할 수 있다."
      ],
      "metadata": {
        "id": "IUArcogNASib"
      }
    },
    {
      "cell_type": "markdown",
      "source": [
        "#### Insight02"
      ],
      "metadata": {
        "id": "xu02Cz4IVVfl"
      }
    },
    {
      "cell_type": "code",
      "source": [
        "age = health[health['총콜레스테롤'].notnull()]"
      ],
      "metadata": {
        "id": "q_aWA5YYViyT"
      },
      "execution_count": 9,
      "outputs": []
    },
    {
      "cell_type": "code",
      "source": [
        "#sns.lineplot(data = age, x = '연령대코드(5세단위)', y = '총콜레스테롤', ci=None)\n",
        "sns.boxplot(data = age, x = '연령대코드(5세단위)', y = '총콜레스테롤')"
      ],
      "metadata": {
        "colab": {
          "base_uri": "https://localhost:8080/",
          "height": 300
        },
        "id": "rsIilrON4Jzf",
        "outputId": "47c6144b-1936-4d46-c665-64ffcd221af4"
      },
      "execution_count": 10,
      "outputs": [
        {
          "output_type": "execute_result",
          "data": {
            "text/plain": [
              "<matplotlib.axes._subplots.AxesSubplot at 0x7f8553f21cd0>"
            ]
          },
          "metadata": {},
          "execution_count": 10
        },
        {
          "output_type": "display_data",
          "data": {
            "text/plain": [
              "<Figure size 432x288 with 1 Axes>"
            ],
            "image/png": "[encoded data removed]"
          },
          "metadata": {
            "needs_background": "light"
          }
        }
      ]
    },
    {
      "cell_type": "markdown",
      "source": [
        "boxplot으로 각 연령별 총콜레스테롤 수치를 확인했을 때, 코드 13에 해당하는 60~64세에서 총콜레스테롤 수치가 극단적으로 높거나 낮은 이상치가 가장 많이 존재함을 볼 수 있다.\n",
        "\n",
        "따라서 코드 13의 이상치를 평균으로 처리한 후, 연령별 총콜레스테롤 수치를 비교하고자 한다. "
      ],
      "metadata": {
        "id": "2Q7Dl4R2_I0I"
      }
    },
    {
      "cell_type": "code",
      "source": [
        "# 이상치 처리\n",
        "age.loc[age['연령대코드(5세단위)'] == 13, '총콜레스테롤'].describe()           \n",
        "upper = 197.902004 + 2.575 * 43.647026      # 상한 : 표본평균 + 2.575 * 표준편차\n",
        "low = 197.902004 - 2.575 * 43.647026        # 하한 : 표본평균 - 2.575 * 표준편차\n",
        "\n",
        "age.loc[ (age['총콜레스테롤'] > upper) & (age['연령대코드(5세단위)']== 13), '총콜레스테롤'] = None\n",
        "age.loc[ (age['총콜레스테롤'] < low) & (age['연령대코드(5세단위)']== 13), '총콜레스테롤'] = None\n",
        "\n",
        "age = health[health['총콜레스테롤'].notnull()]"
      ],
      "metadata": {
        "id": "45_b2bXs6s_D",
        "colab": {
          "base_uri": "https://localhost:8080/"
        },
        "outputId": "ea378420-7c2d-4635-c114-62356a2bbfae"
      },
      "execution_count": 11,
      "outputs": [
        {
          "output_type": "stream",
          "name": "stderr",
          "text": [
            "/usr/local/lib/python3.7/dist-packages/pandas/core/indexing.py:1817: SettingWithCopyWarning: \n",
            "A value is trying to be set on a copy of a slice from a DataFrame.\n",
            "Try using .loc[row_indexer,col_indexer] = value instead\n",
            "\n",
            "See the caveats in the documentation: https://pandas.pydata.org/pandas-docs/stable/user_guide/indexing.html#returning-a-view-versus-a-copy\n",
            "  self._setitem_single_column(loc, value, pi)\n"
          ]
        }
      ]
    },
    {
      "cell_type": "markdown",
      "source": [
        "상한과 하한은 표본평균 +- 2.575 * 표준편차로 설정한다. (2.575는 Z(a=0.01)의 값)\n",
        "\n",
        "상한 이상의 값과 하한 이하의 값은 결측치(None)으로 처리한다."
      ],
      "metadata": {
        "id": "5tLzt6Hq_tEY"
      }
    },
    {
      "cell_type": "code",
      "source": [
        "sns.lineplot(data = age, x = '연령대코드(5세단위)', y = '총콜레스테롤', ci=None)"
      ],
      "metadata": {
        "colab": {
          "base_uri": "https://localhost:8080/",
          "height": 298
        },
        "id": "-leBTO9T-4lO",
        "outputId": "0f086b22-296e-4afd-ae83-9d98253d6a9c"
      },
      "execution_count": 12,
      "outputs": [
        {
          "output_type": "execute_result",
          "data": {
            "text/plain": [
              "<matplotlib.axes._subplots.AxesSubplot at 0x7f8553defb50>"
            ]
          },
          "metadata": {},
          "execution_count": 12
        },
        {
          "output_type": "display_data",
          "data": {
            "text/plain": [
              "<Figure size 432x288 with 1 Axes>"
            ],
            "image/png": "[encoded data removed]"
          },
          "metadata": {
            "needs_background": "light"
          }
        }
      ]
    },
    {
      "cell_type": "markdown",
      "source": [
        "**1. 연령별 총콜레스테롤 수치**\n",
        "\n",
        "총콜레스테롤의 정상치는 150~250mg/dL으로, 전연령대 모두 평균적으로 정상수치를 보이고 있다.\n",
        "\n",
        "12\\~13코드에 해당하는 55세\\~64세의 평균 총콜레스테롤 수치가 가장 높게 나타났고, 15\\~17코드에 해당하는 70세\\~84세의 평균 총콜레스테롤 수치가 가장 낮게 나타났다.\n",
        "\n",
        "전반적으로는 우하향 후, 마지막에 다시 상승하는 양상을 보인다.\n",
        "\n",
        "따라서 64세 이후로는 총콜레스테롤 수치가 떨어지다가, 80세 이상이 되면 다시 총콜레스테롤 수치가 상승한다는 것을 확인할 수 있다."
      ],
      "metadata": {
        "id": "fDwaiTe-5MMN"
      }
    },
    {
      "cell_type": "code",
      "source": [
        "age1 = health[health['총콜레스테롤'].notnull()]\n",
        "\n",
        "ageoutlier = age1.loc[(age1['총콜레스테롤'] > 250) | (age1['총콜레스테롤'] < 150)] # 정상치가 아닌 데이터 저장\n",
        "sns.scatterplot(data = ageoutlier, x = '연령대코드(5세단위)', y = '총콜레스테롤')"
      ],
      "metadata": {
        "colab": {
          "base_uri": "https://localhost:8080/",
          "height": 300
        },
        "id": "bCtd4s2uBQrv",
        "outputId": "44a66102-64ff-4a3f-d3d1-380201ee64aa"
      },
      "execution_count": 13,
      "outputs": [
        {
          "output_type": "execute_result",
          "data": {
            "text/plain": [
              "<matplotlib.axes._subplots.AxesSubplot at 0x7f8553d69910>"
            ]
          },
          "metadata": {},
          "execution_count": 13
        },
        {
          "output_type": "display_data",
          "data": {
            "text/plain": [
              "<Figure size 432x288 with 1 Axes>"
            ],
            "image/png": "[encoded data removed]"
          },
          "metadata": {
            "needs_background": "light"
          }
        }
      ]
    },
    {
      "cell_type": "code",
      "source": [
        "ageupper = age1.loc[(age1['총콜레스테롤'] > 250)]\n",
        "agelow = age1.loc[(age1['총콜레스테롤'] < 150)]\n",
        "\n",
        "ax1 = sns.countplot(data = ageoutlier, x = '연령대코드(5세단위)') #graph1\n",
        "for p in ax1.patches:\n",
        "    height = p.get_height()\n",
        "    ax1.text(p.get_x() + p.get_width() / 2., height + 3, height, ha = 'center', size = 11)\n",
        "plt.title(\"정상치 범위 밖 (Total)\")\n",
        "plt.show()\n",
        "\n",
        "ax2 = sns.countplot(data = ageupper, x = '연령대코드(5세단위)') #graph2\n",
        "for p in ax2.patches:\n",
        "    height = p.get_height()\n",
        "    ax2.text(p.get_x() + p.get_width() / 2., height + 3, height, ha = 'center', size = 11)\n",
        "plt.title(\"총콜레스테롤 수치 250 초과(Upper)\")\n",
        "plt.show()\n",
        "\n",
        "ax3 = sns.countplot(data = agelow, x = '연령대코드(5세단위)') #graph3\n",
        "for p in ax3.patches:\n",
        "    height = p.get_height()\n",
        "    ax3.text(p.get_x() + p.get_width() / 2., height + 3, height, ha = 'center', size = 11)\n",
        "plt.title(\"총콜레스테롤 수치 150 미만(Low)\")\n",
        "plt.show()\n"
      ],
      "metadata": {
        "colab": {
          "base_uri": "https://localhost:8080/",
          "height": 854
        },
        "id": "KYYIYCwVCXGt",
        "outputId": "261bc87a-0ad5-4797-bd53-ebc29c01a99e"
      },
      "execution_count": 14,
      "outputs": [
        {
          "output_type": "display_data",
          "data": {
            "text/plain": [
              "<Figure size 432x288 with 1 Axes>"
            ],
            "image/png": "[encoded data removed]"
          },
          "metadata": {
            "needs_background": "light"
          }
        },
        {
          "output_type": "display_data",
          "data": {
            "text/plain": [
              "<Figure size 432x288 with 1 Axes>"
            ],
            "image/png": "[encoded data removed]"
          },
          "metadata": {
            "needs_background": "light"
          }
        },
        {
          "output_type": "display_data",
          "data": {
            "text/plain": [
              "<Figure size 432x288 with 1 Axes>"
            ],
            "image/png": "[encoded data removed]"
          },
          "metadata": {
            "needs_background": "light"
          }
        }
      ]
    },
    {
      "cell_type": "markdown",
      "source": [
        "**2. 연령별 정상치 외의 수치**\n",
        "\n",
        "총콜레스테롤 수치가 정상치 범위를 벗어난 데이터들을 모아 연령대별 분포를 확인했다.\n",
        "\n",
        "산점도를 통해 총콜레스테롤 수치가 250 초과인 데이터들이 보다 넓게 분포되어 있고, 총콜레스테롤 수치가 150 미만인 데이터들은 상대적으로 밀집되어 존재하고 있음을 볼 수 있다.\n",
        "\n",
        "---\n",
        "\n",
        "countplot을 통해서는 정상치 범위를 벗어난 데이터들의 빈도수(graph1)와 상한 범위를 벗어난 데이터들의 빈도수(graph2), 하한 범위를 벗어난 데이터들의 빈도수(graph3)을 확인했다.\n",
        "\n",
        "그 결과, 60\\~64세에서 총콜레스테롤 수치가 정상치 범위를 벗어나는 경우가 많음을 알 수 있었다.\n",
        "\n",
        "총콜레스테롤 수치가 250 초과로, 정상치보다 높으면 급성심근경색, 뇌경색 같은 질병이 생길 확률이 높아진다. 그렇기에 총콜레스테롤 수치가 정상치보다 높은 경우가 많은 40\\~44세와 60\\~64세에는 총콜레스테롤 수치를 낮추기 위해 기름진 음식을 피하는 식생활 개선과 적절한 운동이 필요하다.\n",
        "\n",
        "총콜레스테롤 수치가 150 미만으로, 정상치보다 낮으면 우울증·정신장애·폭력·자살 등과도 연관되어 있기에 총콜레스테롤 수치가 정상치보다 낮은 경우가 많은 60\\~69세에 집중하여 위와 같은 질환을 예방 및 해결하기 위한 방안을 고안할 필요가 있다."
      ],
      "metadata": {
        "id": "WtkSoTayEEwf"
      }
    },
    {
      "cell_type": "markdown",
      "source": [
        "#### Insight03"
      ],
      "metadata": {
        "id": "JtJ0t5qNJlCt"
      }
    },
    {
      "cell_type": "code",
      "source": [
        "alcohol = health[ (health['음주여부'].notnull()) | (health['(혈청지오티)AST'].notnull()) | (health['(혈청지오티)ALT'].notnull())]"
      ],
      "metadata": {
        "id": "BhkvsCqYEEZn"
      },
      "execution_count": 41,
      "outputs": []
    },
    {
      "cell_type": "code",
      "source": [
        "alcohol.groupby(['성별코드'])[['성별코드']].count()"
      ],
      "metadata": {
        "colab": {
          "base_uri": "https://localhost:8080/",
          "height": 143
        },
        "id": "Slc52XyMoU2d",
        "outputId": "fe2854b1-3f44-48b7-ebf1-4d2d637b3ca3"
      },
      "execution_count": 42,
      "outputs": [
        {
          "output_type": "execute_result",
          "data": {
            "text/plain": [
              "      성별코드\n",
              "성별코드      \n",
              "F     4862\n",
              "M     5138"
            ],
            "text/html": [
              "\n",
              "  <div id=\"df-b00510ad-b157-4ac9-96c9-05e31ccab08d\">\n",
              "    <div class=\"colab-df-container\">\n",
              "      <div>\n",
              "<style scoped>\n",
              "    .dataframe tbody tr th:only-of-type {\n",
              "        vertical-align: middle;\n",
              "    }\n",
              "\n",
              "    .dataframe tbody tr th {\n",
              "        vertical-align: top;\n",
              "    }\n",
              "\n",
              "    .dataframe thead th {\n",
              "        text-align: right;\n",
              "    }\n",
              "</style>\n",
              "<table border=\"1\" class=\"dataframe\">\n",
              "  <thead>\n",
              "    <tr style=\"text-align: right;\">\n",
              "      <th></th>\n",
              "      <th>성별코드</th>\n",
              "    </tr>\n",
              "    <tr>\n",
              "      <th>성별코드</th>\n",
              "      <th></th>\n",
              "    </tr>\n",
              "  </thead>\n",
              "  <tbody>\n",
              "    <tr>\n",
              "      <th>F</th>\n",
              "      <td>4862</td>\n",
              "    </tr>\n",
              "    <tr>\n",
              "      <th>M</th>\n",
              "      <td>5138</td>\n",
              "    </tr>\n",
              "  </tbody>\n",
              "</table>\n",
              "</div>\n",
              "      <button class=\"colab-df-convert\" onclick=\"convertToInteractive('df-b00510ad-b157-4ac9-96c9-05e31ccab08d')\"\n",
              "              title=\"Convert this dataframe to an interactive table.\"\n",
              "              style=\"display:none;\">\n",
              "        \n",
              "  <svg xmlns=\"http://www.w3.org/2000/svg\" height=\"24px\"viewBox=\"0 0 24 24\"\n",
              "       width=\"24px\">\n",
              "    <path d=\"M0 0h24v24H0V0z\" fill=\"none\"/>\n",
              "    <path d=\"M18.56 5.44l.94 2.06.94-2.06 2.06-.94-2.06-.94-.94-2.06-.94 2.06-2.06.94zm-11 1L8.5 8.5l.94-2.06 2.06-.94-2.06-.94L8.5 2.5l-.94 2.06-2.06.94zm10 10l.94 2.06.94-2.06 2.06-.94-2.06-.94-.94-2.06-.94 2.06-2.06.94z\"/><path d=\"M17.41 7.96l-1.37-1.37c-.4-.4-.92-.59-1.43-.59-.52 0-1.04.2-1.43.59L10.3 9.45l-7.72 7.72c-.78.78-.78 2.05 0 2.83L4 21.41c.39.39.9.59 1.41.59.51 0 1.02-.2 1.41-.59l7.78-7.78 2.81-2.81c.8-.78.8-2.07 0-2.86zM5.41 20L4 18.59l7.72-7.72 1.47 1.35L5.41 20z\"/>\n",
              "  </svg>\n",
              "      </button>\n",
              "      \n",
              "  <style>\n",
              "    .colab-df-container {\n",
              "      display:flex;\n",
              "      flex-wrap:wrap;\n",
              "      gap: 12px;\n",
              "    }\n",
              "\n",
              "    .colab-df-convert {\n",
              "      background-color: #E8F0FE;\n",
              "      border: none;\n",
              "      border-radius: 50%;\n",
              "      cursor: pointer;\n",
              "      display: none;\n",
              "      fill: #1967D2;\n",
              "      height: 32px;\n",
              "      padding: 0 0 0 0;\n",
              "      width: 32px;\n",
              "    }\n",
              "\n",
              "    .colab-df-convert:hover {\n",
              "      background-color: #E2EBFA;\n",
              "      box-shadow: 0px 1px 2px rgba(60, 64, 67, 0.3), 0px 1px 3px 1px rgba(60, 64, 67, 0.15);\n",
              "      fill: #174EA6;\n",
              "    }\n",
              "\n",
              "    [theme=dark] .colab-df-convert {\n",
              "      background-color: #3B4455;\n",
              "      fill: #D2E3FC;\n",
              "    }\n",
              "\n",
              "    [theme=dark] .colab-df-convert:hover {\n",
              "      background-color: #434B5C;\n",
              "      box-shadow: 0px 1px 3px 1px rgba(0, 0, 0, 0.15);\n",
              "      filter: drop-shadow(0px 1px 2px rgba(0, 0, 0, 0.3));\n",
              "      fill: #FFFFFF;\n",
              "    }\n",
              "  </style>\n",
              "\n",
              "      <script>\n",
              "        const buttonEl =\n",
              "          document.querySelector('#df-b00510ad-b157-4ac9-96c9-05e31ccab08d button.colab-df-convert');\n",
              "        buttonEl.style.display =\n",
              "          google.colab.kernel.accessAllowed ? 'block' : 'none';\n",
              "\n",
              "        async function convertToInteractive(key) {\n",
              "          const element = document.querySelector('#df-b00510ad-b157-4ac9-96c9-05e31ccab08d');\n",
              "          const dataTable =\n",
              "            await google.colab.kernel.invokeFunction('convertToInteractive',\n",
              "                                                     [key], {});\n",
              "          if (!dataTable) return;\n",
              "\n",
              "          const docLinkHtml = 'Like what you see? Visit the ' +\n",
              "            '<a target=\"_blank\" href=https://colab.research.google.com/notebooks/data_table.ipynb>data table notebook</a>'\n",
              "            + ' to learn more about interactive tables.';\n",
              "          element.innerHTML = '';\n",
              "          dataTable['output_type'] = 'display_data';\n",
              "          await google.colab.output.renderOutput(dataTable, element);\n",
              "          const docLink = document.createElement('div');\n",
              "          docLink.innerHTML = docLinkHtml;\n",
              "          element.appendChild(docLink);\n",
              "        }\n",
              "      </script>\n",
              "    </div>\n",
              "  </div>\n",
              "  "
            ]
          },
          "metadata": {},
          "execution_count": 42
        }
      ]
    },
    {
      "cell_type": "code",
      "source": [
        "alcohol_df = alcohol.loc[ alcohol['음주여부'] == \"Yes\", '음주여부']\n",
        "alcohol_df.groupby(alcohol['성별코드']).count()\n",
        "\n",
        "FYes = 2036 / 4862 * 100\n",
        "MYes = 3783 / 5138 * 100\n",
        "\n",
        "print(\"여성 음주 비율\", FYes, \"%\")\n",
        "print(\"남성 음주 비율\", MYes, \"%\")"
      ],
      "metadata": {
        "id": "siUAQWk1CW6V",
        "colab": {
          "base_uri": "https://localhost:8080/"
        },
        "outputId": "30ed23f9-4c4d-465b-81dc-d93fafbd0fa5"
      },
      "execution_count": 46,
      "outputs": [
        {
          "output_type": "stream",
          "name": "stdout",
          "text": [
            "여성 음주 비율 41.875771287536 %\n",
            "남성 음주 비율 73.62787076683534 %\n"
          ]
        }
      ]
    },
    {
      "cell_type": "markdown",
      "source": [
        "데이터를 살펴보면, 술을 마시는 여성의 비율보다 술을 마시는 남성의 비율이 더 많다.\n",
        "\n",
        "전체 데이터에서 성비의 차이가 존재하기 때문에 성별에 따라 데이터를 구분하여 시각화하고자 한다."
      ],
      "metadata": {
        "id": "FzdIDHDnMyv2"
      }
    },
    {
      "cell_type": "code",
      "source": [
        "# 성별에 따라 데이터 분리\n",
        "F_df = alcohol.loc[alcohol['성별코드'] == \"F\"]\n",
        "M_df = alcohol.loc[alcohol['성별코드'] == \"M\"]"
      ],
      "metadata": {
        "id": "vDBTRj-PEOy-"
      },
      "execution_count": 67,
      "outputs": []
    },
    {
      "cell_type": "code",
      "source": [
        "F_ax = sns.boxplot(F_df['음주여부'], F_df['(혈청지오티)AST'])\n",
        "F_ax.set_title('여성의 음주 여부에 따른 AST 수치')"
      ],
      "metadata": {
        "colab": {
          "base_uri": "https://localhost:8080/",
          "height": 370
        },
        "id": "bMjQGZdhrP9N",
        "outputId": "2346927b-6ff9-4fad-b6fe-d7fd5fdb2427"
      },
      "execution_count": 81,
      "outputs": [
        {
          "output_type": "stream",
          "name": "stderr",
          "text": [
            "/usr/local/lib/python3.7/dist-packages/seaborn/_decorators.py:43: FutureWarning: Pass the following variables as keyword args: x, y. From version 0.12, the only valid positional argument will be `data`, and passing other arguments without an explicit keyword will result in an error or misinterpretation.\n",
            "  FutureWarning\n"
          ]
        },
        {
          "output_type": "execute_result",
          "data": {
            "text/plain": [
              "Text(0.5, 1.0, '여성의 음주 여부에 따른 AST 수치')"
            ]
          },
          "metadata": {},
          "execution_count": 81
        },
        {
          "output_type": "display_data",
          "data": {
            "text/plain": [
              "<Figure size 432x288 with 1 Axes>"
            ],
            "image/png": "[encoded data removed]"
          },
          "metadata": {
            "needs_background": "light"
          }
        }
      ]
    },
    {
      "cell_type": "code",
      "source": [
        "M_ax = sns.boxplot(M_df['음주여부'], M_df['(혈청지오티)AST'])\n",
        "M_ax.set_title('남성의 음주 여부에 따른 AST 수치')"
      ],
      "metadata": {
        "colab": {
          "base_uri": "https://localhost:8080/",
          "height": 370
        },
        "id": "_2BVwDcvww9w",
        "outputId": "dcf76542-f316-4b6d-843c-2e4485d61f9f"
      },
      "execution_count": 82,
      "outputs": [
        {
          "output_type": "stream",
          "name": "stderr",
          "text": [
            "/usr/local/lib/python3.7/dist-packages/seaborn/_decorators.py:43: FutureWarning: Pass the following variables as keyword args: x, y. From version 0.12, the only valid positional argument will be `data`, and passing other arguments without an explicit keyword will result in an error or misinterpretation.\n",
            "  FutureWarning\n"
          ]
        },
        {
          "output_type": "execute_result",
          "data": {
            "text/plain": [
              "Text(0.5, 1.0, '남성의 음주 여부에 따른 AST 수치')"
            ]
          },
          "metadata": {},
          "execution_count": 82
        },
        {
          "output_type": "display_data",
          "data": {
            "text/plain": [
              "<Figure size 432x288 with 1 Axes>"
            ],
            "image/png": "[encoded data removed]"
          },
          "metadata": {
            "needs_background": "light"
          }
        }
      ]
    },
    {
      "cell_type": "markdown",
      "source": [
        "**1. 음주 여부에 따른 (혈청지오티)AST 수치 비교 (성별 구분하여 비교)**\n",
        "\n",
        "여성과 남성 모두 음주 상태가 No(마시지 않는다)인 경우, 정상치인 0~40IU/L 범위 밖에 존재하는 outlier의 개수가 Yes(마신다)의 경우보다 적다.\n",
        "\n",
        "여성의 경우, 음주상태가 No인 경우에서 정상치와의 거리가 큰 outlier가 존재하나, outlier의 개수는 음주상태가 Yes인 경우보다 확연하게 적으며 남성의 경우, 음주상태가 Yes인 경우가 No인 경우보다 outlier의 범위도 넓고, 그 수도 많음을 볼 수 있다."
      ],
      "metadata": {
        "id": "pJqexpyVCJSA"
      }
    },
    {
      "cell_type": "code",
      "source": [
        "F_ax = sns.boxplot(F_df['음주여부'], F_df['(혈청지오티)ALT'])\n",
        "F_ax.set_title('여성의 음주 여부에 따른 ALT 수치')"
      ],
      "metadata": {
        "colab": {
          "base_uri": "https://localhost:8080/",
          "height": 370
        },
        "id": "MBEnQ9s0xvGd",
        "outputId": "59d5135f-0d3c-4da6-ed41-5d57a74a21db"
      },
      "execution_count": 83,
      "outputs": [
        {
          "output_type": "stream",
          "name": "stderr",
          "text": [
            "/usr/local/lib/python3.7/dist-packages/seaborn/_decorators.py:43: FutureWarning: Pass the following variables as keyword args: x, y. From version 0.12, the only valid positional argument will be `data`, and passing other arguments without an explicit keyword will result in an error or misinterpretation.\n",
            "  FutureWarning\n"
          ]
        },
        {
          "output_type": "execute_result",
          "data": {
            "text/plain": [
              "Text(0.5, 1.0, '여성의 음주 여부에 따른 ALT 수치')"
            ]
          },
          "metadata": {},
          "execution_count": 83
        },
        {
          "output_type": "display_data",
          "data": {
            "text/plain": [
              "<Figure size 432x288 with 1 Axes>"
            ],
            "image/png": "[encoded data removed]"
          },
          "metadata": {
            "needs_background": "light"
          }
        }
      ]
    },
    {
      "cell_type": "code",
      "source": [
        "M_ax = sns.boxplot(M_df['음주여부'], M_df['(혈청지오티)ALT'])\n",
        "M_ax.set_title('남성의 음주 여부에 따른 ALT 수치')"
      ],
      "metadata": {
        "colab": {
          "base_uri": "https://localhost:8080/",
          "height": 370
        },
        "id": "dC-_vWxsyfuO",
        "outputId": "18b687bd-97d8-4d93-a6d4-b937688da472"
      },
      "execution_count": 84,
      "outputs": [
        {
          "output_type": "stream",
          "name": "stderr",
          "text": [
            "/usr/local/lib/python3.7/dist-packages/seaborn/_decorators.py:43: FutureWarning: Pass the following variables as keyword args: x, y. From version 0.12, the only valid positional argument will be `data`, and passing other arguments without an explicit keyword will result in an error or misinterpretation.\n",
            "  FutureWarning\n"
          ]
        },
        {
          "output_type": "execute_result",
          "data": {
            "text/plain": [
              "Text(0.5, 1.0, '남성의 음주 여부에 따른 ALT 수치')"
            ]
          },
          "metadata": {},
          "execution_count": 84
        },
        {
          "output_type": "display_data",
          "data": {
            "text/plain": [
              "<Figure size 432x288 with 1 Axes>"
            ],
            "image/png": "[encoded data removed]"
          },
          "metadata": {
            "needs_background": "light"
          }
        }
      ]
    },
    {
      "cell_type": "markdown",
      "source": [
        "**2. 음주 여부에 따른 (혈청지오티)ALT 수치 비교 (성별 구분하여 비교)**\n",
        "\n",
        "여성과 남성 모두 위에서 비교한 AST의 경우와 동일한 양상을 보인다.\n",
        "\n"
      ],
      "metadata": {
        "id": "qSbQ2t1Pym5z"
      }
    },
    {
      "cell_type": "code",
      "source": [
        "sns.lineplot(data = alcohol, x = alcohol['(혈청지오티)AST'], y = alcohol['(혈청지오티)ALT'], ci=None)"
      ],
      "metadata": {
        "colab": {
          "base_uri": "https://localhost:8080/",
          "height": 301
        },
        "id": "ihNpjcCGy94H",
        "outputId": "bfe6155f-ed51-4c24-9f0d-69e0cba47778"
      },
      "execution_count": 85,
      "outputs": [
        {
          "output_type": "execute_result",
          "data": {
            "text/plain": [
              "<matplotlib.axes._subplots.AxesSubplot at 0x7f8552164dd0>"
            ]
          },
          "metadata": {},
          "execution_count": 85
        },
        {
          "output_type": "display_data",
          "data": {
            "text/plain": [
              "<Figure size 432x288 with 1 Axes>"
            ],
            "image/png": "[encoded data removed]"
          },
          "metadata": {
            "needs_background": "light"
          }
        }
      ]
    },
    {
      "cell_type": "markdown",
      "source": [
        "(혈청지오티)AST와 (혈청지오티)ALT는 전반적으로 양의 상관관계(비례관계)를 갖는다.\n",
        "\n",
        "따라서 위 1번과 2번에서 비교한 그래프의 양상이 동일하게 나타났음을 이해할 수 있다.\n",
        "\n",
        "---\n",
        "여성과 남성 모두 음주상태가 Yes일 때 AST와 ALT의 수치가 정상치 이상인 경우가 많다.\n",
        "\n",
        "이는 음주여부와 AST, ALT의 수치 향상이 유의미한 관계에 있음을 시사한다."
      ],
      "metadata": {
        "id": "S6EOUO5gzZly"
      }
    },
    {
      "cell_type": "markdown",
      "source": [
        "<img src = 'https://drive.google.com/uc?export=view&id=10P1JXkWUPpnxTmDTt42L_c0ZVzqk511-' align= \"left\" width = 50%>\n",
        "<img src = 'https://drive.google.com/uc?export=view&id=1wjOkC3JMYVCjucO6WqFugNyKxq8wp8ic' align= \"right\" width = 50%>"
      ],
      "metadata": {
        "id": "JcXW0hfp97XO"
      }
    },
    {
      "cell_type": "markdown",
      "source": [
        "01. AST 이상치 분포\n",
        "\n",
        "  음주를 하는 여성의 AST 이상치는 50\\~200 사이에 대부분 분포되어 있으며,\n",
        "\n",
        "  음주를 하는 남성의 AST 이상치는 50\\~250 사이에 대다수가 분포되어 있다.\n",
        "\n",
        "\n",
        "02. ALT 이상치 분포\n",
        "  음주를 하는 여성의 ALT 이상치는 50\\~200 사이에 대부분 분포되어 있으며,\n",
        "\n",
        "  음주를 하는 남성의 ALT 이상치는 50\\~210 사이에 대부분 분포되어 있다.\n",
        "\n",
        "즉, AST와 ALT 수치 모두 가벼운 증가 혹은 중간 정도의 증가에 해당하므로 음주를 하는 여성과 남성은 위 표에 해당하는 질병들을 조심할 필요가 있다."
      ],
      "metadata": {
        "id": "1d1H8RNW-mVo"
      }
    }
  ]
}